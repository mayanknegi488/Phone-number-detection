/* you have to install this package in order to execute this program */
pip install phonenumbers 

import phonenumbers

number = "" /* here, input the phone number you want along with its country code. For eg +91xxxxxxxxxx for India */

from phonenumbers import geocoder
ch_number = phonenumbers.parse(number,"CH")
print(geocoder.description_for_number(ch_number, "en")) /* this will print the country location of the number */

from phonenumbers import carrier
service_nmber = phonenumbers.parse(number, "RO")
print(carrier.name_for_number(service_nmber, "en")) /* this will print the service provider of the number */
